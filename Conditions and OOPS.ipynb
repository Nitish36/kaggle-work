{
 "cells": [
  {
   "cell_type": "code",
   "execution_count": 7,
   "id": "938a390f",
   "metadata": {},
   "outputs": [
    {
     "name": "stdout",
     "output_type": "stream",
     "text": [
      "Enter a: 0\n"
     ]
    }
   ],
   "source": [
    "#Conditional Statement\n",
    "#if,else,elif\n",
    "a=int(input(\"Enter a: \"))\n",
    "#if expr:\n",
    "if a>0:\n",
    "    #Indendation Space\n",
    "    b=a**2\n",
    "    print(\"Positive value is \",a,\"and Square data \",b)\n",
    "elif a==0:\n",
    "    pass\n",
    "else:\n",
    "    b=a**3\n",
    "    print(\"Negative value is \",a,\"and Cube data \",b)"
   ]
  },
  {
   "cell_type": "code",
   "execution_count": 9,
   "id": "a6cda5d3",
   "metadata": {},
   "outputs": [
    {
     "name": "stdout",
     "output_type": "stream",
     "text": [
      "Enter a: 3\n",
      "Odd\n"
     ]
    }
   ],
   "source": [
    "a=int(input(\"Enter a: \"))\n",
    "if a%2==0:\n",
    "    print(\"Even\")\n",
    "else:\n",
    "    print(\"Odd\")"
   ]
  },
  {
   "cell_type": "code",
   "execution_count": 10,
   "id": "40da403b",
   "metadata": {},
   "outputs": [
    {
     "name": "stdout",
     "output_type": "stream",
     "text": [
      "Palindrome\n"
     ]
    }
   ],
   "source": [
    "x=\"refer\"\n",
    "if x==x[::-1]:\n",
    "    print(\"Palindrome\")\n",
    "else:\n",
    "    print(\"Not Palindrome\")"
   ]
  },
  {
   "cell_type": "code",
   "execution_count": 11,
   "id": "4be7dcae",
   "metadata": {},
   "outputs": [],
   "source": [
    "#Looping Statement\n",
    "#for iter_var in seq:\n",
    "x=[10,20,30,40,50]"
   ]
  },
  {
   "cell_type": "code",
   "execution_count": 12,
   "id": "017c236d",
   "metadata": {},
   "outputs": [
    {
     "name": "stdout",
     "output_type": "stream",
     "text": [
      "[10, 20, 30, 40, 50]\n",
      "[10, 20, 30, 40, 50]\n",
      "[10, 20, 30, 40, 50]\n",
      "[10, 20, 30, 40, 50]\n",
      "[10, 20, 30, 40, 50]\n"
     ]
    }
   ],
   "source": [
    "for num in x:\n",
    "    print(x)"
   ]
  },
  {
   "cell_type": "code",
   "execution_count": 13,
   "id": "044db463",
   "metadata": {},
   "outputs": [
    {
     "name": "stdout",
     "output_type": "stream",
     "text": [
      "10\n",
      "20\n",
      "30\n",
      "40\n",
      "50\n"
     ]
    }
   ],
   "source": [
    "for i in x:\n",
    "    print(i)"
   ]
  },
  {
   "cell_type": "code",
   "execution_count": 14,
   "id": "85ee1ccb",
   "metadata": {},
   "outputs": [
    {
     "data": {
      "text/plain": [
       "[10, 20, 30, 40, 50]"
      ]
     },
     "execution_count": 14,
     "metadata": {},
     "output_type": "execute_result"
    }
   ],
   "source": [
    "x"
   ]
  },
  {
   "cell_type": "code",
   "execution_count": 15,
   "id": "5978374c",
   "metadata": {},
   "outputs": [
    {
     "data": {
      "text/plain": [
       "50"
      ]
     },
     "execution_count": 15,
     "metadata": {},
     "output_type": "execute_result"
    }
   ],
   "source": [
    "x.pop()"
   ]
  },
  {
   "cell_type": "code",
   "execution_count": 16,
   "id": "2a039122",
   "metadata": {},
   "outputs": [
    {
     "data": {
      "text/plain": [
       "[10, 20, 30, 40]"
      ]
     },
     "execution_count": 16,
     "metadata": {},
     "output_type": "execute_result"
    }
   ],
   "source": [
    "x"
   ]
  },
  {
   "cell_type": "code",
   "execution_count": 19,
   "id": "be67caa3",
   "metadata": {
    "collapsed": true
   },
   "outputs": [
    {
     "name": "stdout",
     "output_type": "stream",
     "text": [
      "5.0\n",
      "10.0\n",
      "15.0\n",
      "20.0\n"
     ]
    }
   ],
   "source": [
    "for i in x:\n",
    "    print(i/2)"
   ]
  },
  {
   "cell_type": "code",
   "execution_count": 20,
   "id": "508c5ef8",
   "metadata": {
    "collapsed": true
   },
   "outputs": [
    {
     "name": "stdout",
     "output_type": "stream",
     "text": [
      "1\n",
      "2\n",
      "3\n",
      "4\n",
      "5\n",
      "6\n",
      "7\n",
      "8\n",
      "9\n",
      "10\n"
     ]
    }
   ],
   "source": [
    "#[i:e]\n",
    "for i in range(1,11):\n",
    "    print(i)"
   ]
  },
  {
   "cell_type": "code",
   "execution_count": 21,
   "id": "7b5afdc4",
   "metadata": {},
   "outputs": [
    {
     "name": "stdout",
     "output_type": "stream",
     "text": [
      "Enter table no: 10\n",
      "Enter last range: 6\n",
      "1 * 10 = 10\n",
      "2 * 10 = 20\n",
      "3 * 10 = 30\n",
      "4 * 10 = 40\n",
      "5 * 10 = 50\n"
     ]
    }
   ],
   "source": [
    "#1*10=10\n",
    "t=int(input(\"Enter table no: \"))\n",
    "e=int(input(\"Enter last range: \"))\n",
    "for i in range(1,e):\n",
    "    print(i,\"*\",t,\"=\",i*t)"
   ]
  },
  {
   "cell_type": "code",
   "execution_count": 23,
   "id": "a4bb833b",
   "metadata": {
    "collapsed": true
   },
   "outputs": [
    {
     "name": "stdout",
     "output_type": "stream",
     "text": [
      "1 Odd\n",
      "2 Even\n",
      "3 Odd\n",
      "4 Even\n"
     ]
    }
   ],
   "source": [
    "for i in range(1,5):\n",
    "    if i%2==0:\n",
    "        print(i,\"Even\")\n",
    "        \n",
    "    else:\n",
    "        print(i,\"Odd\")"
   ]
  },
  {
   "cell_type": "code",
   "execution_count": 24,
   "id": "5bd6a3e4",
   "metadata": {},
   "outputs": [
    {
     "name": "stdout",
     "output_type": "stream",
     "text": [
      "1 Odd\n",
      "2 Even\n"
     ]
    }
   ],
   "source": [
    "for i in range(1,5):\n",
    "    if i%2==0:\n",
    "        print(i,\"Even\")\n",
    "        break\n",
    "    else:\n",
    "        print(i,\"Odd\")"
   ]
  },
  {
   "cell_type": "code",
   "execution_count": 32,
   "id": "0ce47507",
   "metadata": {
    "collapsed": true
   },
   "outputs": [
    {
     "name": "stdout",
     "output_type": "stream",
     "text": [
      "31\n",
      "37\n",
      "41\n",
      "43\n"
     ]
    }
   ],
   "source": [
    "for i in range(30,45):\n",
    "    if i>1:\n",
    "        for j in range(2,i):\n",
    "            if i%j==0:\n",
    "                break\n",
    "        else:\n",
    "            print(i)"
   ]
  },
  {
   "cell_type": "code",
   "execution_count": 33,
   "id": "d4cba795",
   "metadata": {},
   "outputs": [
    {
     "name": "stdout",
     "output_type": "stream",
     "text": [
      "3\n",
      "5\n",
      "7\n"
     ]
    }
   ],
   "source": [
    "i=1\n",
    "while i<6:\n",
    "    i=i+2\n",
    "    print(i)"
   ]
  },
  {
   "cell_type": "code",
   "execution_count": 34,
   "id": "9aa48ca9",
   "metadata": {},
   "outputs": [],
   "source": [
    "#Function:\n",
    "#def fn_name():\n",
    "def add(a=90,b=10):\n",
    "    return a+b"
   ]
  },
  {
   "cell_type": "code",
   "execution_count": 35,
   "id": "091b9c22",
   "metadata": {},
   "outputs": [
    {
     "data": {
      "text/plain": [
       "100"
      ]
     },
     "execution_count": 35,
     "metadata": {},
     "output_type": "execute_result"
    }
   ],
   "source": [
    "#Call fn_name\n",
    "add()"
   ]
  },
  {
   "cell_type": "code",
   "execution_count": 36,
   "id": "bf8653c5",
   "metadata": {},
   "outputs": [
    {
     "data": {
      "text/plain": [
       "300"
      ]
     },
     "execution_count": 36,
     "metadata": {},
     "output_type": "execute_result"
    }
   ],
   "source": [
    "add(100,200)"
   ]
  },
  {
   "cell_type": "code",
   "execution_count": 37,
   "id": "3ff0a215",
   "metadata": {
    "collapsed": true
   },
   "outputs": [
    {
     "ename": "TypeError",
     "evalue": "add() takes from 0 to 2 positional arguments but 3 were given",
     "output_type": "error",
     "traceback": [
      "\u001b[1;31m---------------------------------------------------------------------------\u001b[0m",
      "\u001b[1;31mTypeError\u001b[0m                                 Traceback (most recent call last)",
      "\u001b[1;32m~\\AppData\\Local\\Temp/ipykernel_13296/2124162676.py\u001b[0m in \u001b[0;36m<module>\u001b[1;34m\u001b[0m\n\u001b[1;32m----> 1\u001b[1;33m \u001b[0madd\u001b[0m\u001b[1;33m(\u001b[0m\u001b[1;36m1\u001b[0m\u001b[1;33m,\u001b[0m\u001b[1;36m3\u001b[0m\u001b[1;33m,\u001b[0m\u001b[1;36m4\u001b[0m\u001b[1;33m)\u001b[0m\u001b[1;33m\u001b[0m\u001b[1;33m\u001b[0m\u001b[0m\n\u001b[0m",
      "\u001b[1;31mTypeError\u001b[0m: add() takes from 0 to 2 positional arguments but 3 were given"
     ]
    }
   ],
   "source": [
    "add(1,3,4)"
   ]
  },
  {
   "cell_type": "code",
   "execution_count": 38,
   "id": "fdb0aa02",
   "metadata": {},
   "outputs": [],
   "source": [
    "def sqr(a):\n",
    "    print(a**2)"
   ]
  },
  {
   "cell_type": "code",
   "execution_count": 39,
   "id": "645ac051",
   "metadata": {},
   "outputs": [
    {
     "name": "stdout",
     "output_type": "stream",
     "text": [
      "100\n"
     ]
    }
   ],
   "source": [
    "sqr(10)"
   ]
  },
  {
   "cell_type": "code",
   "execution_count": 40,
   "id": "f4b80232",
   "metadata": {},
   "outputs": [
    {
     "name": "stdout",
     "output_type": "stream",
     "text": [
      "8281\n"
     ]
    }
   ],
   "source": [
    "sqr(91)"
   ]
  },
  {
   "cell_type": "code",
   "execution_count": 41,
   "id": "884ce4b8",
   "metadata": {
    "collapsed": true
   },
   "outputs": [
    {
     "name": "stdout",
     "output_type": "stream",
     "text": [
      "Enter x: 10\n"
     ]
    },
    {
     "data": {
      "text/plain": [
       "1000"
      ]
     },
     "execution_count": 41,
     "metadata": {},
     "output_type": "execute_result"
    }
   ],
   "source": [
    "x=int(input(\"Enter x: \"))\n",
    "def cube(x):\n",
    "    return x**3\n",
    "cube(x)"
   ]
  },
  {
   "cell_type": "code",
   "execution_count": 42,
   "id": "ea54afcd",
   "metadata": {},
   "outputs": [
    {
     "data": {
      "text/plain": [
       "1331"
      ]
     },
     "execution_count": 42,
     "metadata": {},
     "output_type": "execute_result"
    }
   ],
   "source": [
    "cube(11)"
   ]
  },
  {
   "cell_type": "code",
   "execution_count": 43,
   "id": "fb599c7a",
   "metadata": {},
   "outputs": [],
   "source": [
    "x=100#Global"
   ]
  },
  {
   "cell_type": "code",
   "execution_count": 45,
   "id": "92858252",
   "metadata": {},
   "outputs": [],
   "source": [
    "def var():\n",
    "    x=200#Local Variable-Inside the functions\n",
    "    print(x)"
   ]
  },
  {
   "cell_type": "code",
   "execution_count": 46,
   "id": "178882c0",
   "metadata": {},
   "outputs": [
    {
     "data": {
      "text/plain": [
       "100"
      ]
     },
     "execution_count": 46,
     "metadata": {},
     "output_type": "execute_result"
    }
   ],
   "source": [
    "x"
   ]
  },
  {
   "cell_type": "code",
   "execution_count": 47,
   "id": "8f763df5",
   "metadata": {},
   "outputs": [],
   "source": [
    "def add():\n",
    "    global x\n",
    "    y=x+200\n",
    "    print(y)"
   ]
  },
  {
   "cell_type": "code",
   "execution_count": 48,
   "id": "b4d3b30a",
   "metadata": {},
   "outputs": [
    {
     "name": "stdout",
     "output_type": "stream",
     "text": [
      "300\n"
     ]
    }
   ],
   "source": [
    "add()"
   ]
  },
  {
   "cell_type": "code",
   "execution_count": 53,
   "id": "a7dfe60e",
   "metadata": {},
   "outputs": [
    {
     "data": {
      "text/plain": [
       "20.0"
      ]
     },
     "execution_count": 53,
     "metadata": {},
     "output_type": "execute_result"
    }
   ],
   "source": [
    "#Ananymous Function-Lambda\n",
    "#lambda var:expr\n",
    "y=lambda a,b:a+b\n",
    "z=lambda a,b,c:(a+b+c)/3\n",
    "z(10,20,30)"
   ]
  },
  {
   "cell_type": "code",
   "execution_count": 50,
   "id": "4ee856f3",
   "metadata": {},
   "outputs": [
    {
     "data": {
      "text/plain": [
       "46"
      ]
     },
     "execution_count": 50,
     "metadata": {},
     "output_type": "execute_result"
    }
   ],
   "source": [
    "y(12,34)"
   ]
  },
  {
   "cell_type": "code",
   "execution_count": 54,
   "id": "f790fd70",
   "metadata": {},
   "outputs": [],
   "source": [
    "n=[30,23,4,33,1,8]\n",
    "c=filter(lambda x:(x%2==0),n)"
   ]
  },
  {
   "cell_type": "code",
   "execution_count": 55,
   "id": "e24d8269",
   "metadata": {},
   "outputs": [
    {
     "data": {
      "text/plain": [
       "[30, 4, 8]"
      ]
     },
     "execution_count": 55,
     "metadata": {},
     "output_type": "execute_result"
    }
   ],
   "source": [
    "list(c)"
   ]
  },
  {
   "cell_type": "code",
   "execution_count": 58,
   "id": "8b43d4f3",
   "metadata": {},
   "outputs": [],
   "source": [
    "n=[100,102,106,13,14,9,4]\n",
    "def even(n):\n",
    "    if n%2==0:\n",
    "        return True\n",
    "    return False"
   ]
  },
  {
   "cell_type": "code",
   "execution_count": 59,
   "id": "dd0d4305",
   "metadata": {},
   "outputs": [
    {
     "data": {
      "text/plain": [
       "[100, 102, 106, 14, 4]"
      ]
     },
     "execution_count": 59,
     "metadata": {},
     "output_type": "execute_result"
    }
   ],
   "source": [
    "y=filter(even,n)\n",
    "list(y)"
   ]
  },
  {
   "cell_type": "code",
   "execution_count": 60,
   "id": "b3fba9c3",
   "metadata": {},
   "outputs": [],
   "source": [
    "#OOPS"
   ]
  },
  {
   "cell_type": "code",
   "execution_count": 84,
   "id": "febfe395",
   "metadata": {},
   "outputs": [],
   "source": [
    "#Class-User-defined prototype or blueprint of an object\n",
    "#class clsname:-2 properties-attribute and Behavior\n",
    "class Student:\n",
    "    def __init__(self,college):\n",
    "        print(\"College: \",college)\n",
    "    #Methods-Similar to function\n",
    "    def details(self,name,course):\n",
    "        #self is used to access the attribute or behavior var values\n",
    "        print(\"Name: \",name)\n",
    "        print(\"Course: \",course)\n",
    "    def perform(x,grade):\n",
    "        print(\"Rank: \",grade)"
   ]
  },
  {
   "cell_type": "code",
   "execution_count": 86,
   "id": "c0b095c2",
   "metadata": {},
   "outputs": [
    {
     "name": "stdout",
     "output_type": "stream",
     "text": [
      "College:  RNSIT\n"
     ]
    }
   ],
   "source": [
    "#Object-Instance of the class\n",
    "s=Student(\"RNSIT\")"
   ]
  },
  {
   "cell_type": "code",
   "execution_count": 87,
   "id": "c363c073",
   "metadata": {},
   "outputs": [
    {
     "name": "stdout",
     "output_type": "stream",
     "text": [
      "Name:  Preethu\n",
      "Course:  CS\n",
      "Rank:  A\n"
     ]
    }
   ],
   "source": [
    "s.details(\"Preethu\",\"CS\")\n",
    "s.perform(\"A\")"
   ]
  },
  {
   "cell_type": "code",
   "execution_count": 89,
   "id": "fe322173",
   "metadata": {},
   "outputs": [
    {
     "name": "stdout",
     "output_type": "stream",
     "text": [
      "College:  VTU\n",
      "Name:  Karthik\n",
      "Course:  IT\n",
      "Rank:  C\n"
     ]
    }
   ],
   "source": [
    "s1=Student(\"VTU\")\n",
    "s1.details(\"Karthik\",\"IT\")\n",
    "s1.perform(\"C\")"
   ]
  },
  {
   "cell_type": "code",
   "execution_count": 90,
   "id": "8586594e",
   "metadata": {},
   "outputs": [],
   "source": [
    "#Inheritance-Base class and Derived Class\n",
    "#Derived class Can access base cls properties\n",
    "#base class can't access derived class properties\n",
    "#Single Inheritance-1 base class and 1 derived class\n",
    "class College:#Base class\n",
    "    def __init__(self,college):\n",
    "        print(\"College: \",college)\n",
    "    #Methods-Similar to function\n",
    "class Student(College):#Derived class\n",
    "    def details(self,name,course):\n",
    "        #self is used to access the attribute or behavior var values\n",
    "        print(\"Name: \",name)\n",
    "        print(\"Course: \",course)\n",
    "    def perform(x,grade):\n",
    "        print(\"Rank: \",grade)"
   ]
  },
  {
   "cell_type": "code",
   "execution_count": 93,
   "id": "70a7448a",
   "metadata": {},
   "outputs": [
    {
     "name": "stdout",
     "output_type": "stream",
     "text": [
      "College:  VTU\n",
      "Name:  Karthik\n",
      "Course:  IT\n",
      "Rank:  C\n"
     ]
    }
   ],
   "source": [
    "s1=Student(\"VTU\")\n",
    "s1.details(\"Karthik\",\"IT\")\n",
    "s1.perform(\"C\")"
   ]
  },
  {
   "cell_type": "code",
   "execution_count": 94,
   "id": "95c533b5",
   "metadata": {},
   "outputs": [],
   "source": [
    "#Multilevel Inheritance\n",
    "class College:#Base class\n",
    "    def __init__(self,college):\n",
    "        print(\"College: \",college)\n",
    "    #Methods-Similar to function\n",
    "class Student(College):#Derived class\n",
    "    def details(self,name,course):\n",
    "        #self is used to access the attribute or behavior var values\n",
    "        print(\"Name: \",name)\n",
    "        print(\"Course: \",course)\n",
    "class Academic(Student):\n",
    "    def perform(x,grade):\n",
    "        print(\"Rank: \",grade)"
   ]
  },
  {
   "cell_type": "code",
   "execution_count": 95,
   "id": "b3663720",
   "metadata": {},
   "outputs": [
    {
     "name": "stdout",
     "output_type": "stream",
     "text": [
      "College:  VTU\n",
      "Name:  Karthik\n",
      "Course:  IT\n",
      "Rank:  C\n"
     ]
    }
   ],
   "source": [
    "s1=Academic(\"VTU\")\n",
    "s1.details(\"Karthik\",\"IT\")\n",
    "s1.perform(\"C\")"
   ]
  },
  {
   "cell_type": "code",
   "execution_count": 96,
   "id": "b2b1cdc0",
   "metadata": {},
   "outputs": [],
   "source": [
    "#Multiple Inheritance-Too many base clss and one derived class\n",
    "class Add:#Base class\n",
    "    def add(x,a,b):\n",
    "        print(a+b)\n",
    "class Sub:#Base class\n",
    "    def sub(x,a,b):\n",
    "        print(a-b)\n",
    "class Mul:#Base class\n",
    "    def mul(x,a,b):\n",
    "        print(a*b)\n",
    "class Div(Add,Sub,Mul):#Derived class\n",
    "    def div(x,a,b):\n",
    "        print(a/b)"
   ]
  },
  {
   "cell_type": "code",
   "execution_count": 97,
   "id": "90105f55",
   "metadata": {},
   "outputs": [
    {
     "name": "stdout",
     "output_type": "stream",
     "text": [
      "15\n",
      "9\n",
      "4.0\n",
      "36\n"
     ]
    }
   ],
   "source": [
    "d=Div()\n",
    "d.add(12,3)\n",
    "d.sub(12,3)\n",
    "d.div(12,3)\n",
    "d.mul(12,3)"
   ]
  },
  {
   "cell_type": "code",
   "execution_count": 98,
   "id": "c04ff49d",
   "metadata": {
    "collapsed": true
   },
   "outputs": [
    {
     "ename": "AttributeError",
     "evalue": "'Add' object has no attribute 'div'",
     "output_type": "error",
     "traceback": [
      "\u001b[1;31m---------------------------------------------------------------------------\u001b[0m",
      "\u001b[1;31mAttributeError\u001b[0m                            Traceback (most recent call last)",
      "\u001b[1;32m~\\AppData\\Local\\Temp/ipykernel_13296/1476311042.py\u001b[0m in \u001b[0;36m<module>\u001b[1;34m\u001b[0m\n\u001b[0;32m      1\u001b[0m \u001b[0ma\u001b[0m\u001b[1;33m=\u001b[0m\u001b[0mAdd\u001b[0m\u001b[1;33m(\u001b[0m\u001b[1;33m)\u001b[0m\u001b[1;33m\u001b[0m\u001b[1;33m\u001b[0m\u001b[0m\n\u001b[1;32m----> 2\u001b[1;33m \u001b[0ma\u001b[0m\u001b[1;33m.\u001b[0m\u001b[0mdiv\u001b[0m\u001b[1;33m(\u001b[0m\u001b[1;36m12\u001b[0m\u001b[1;33m,\u001b[0m\u001b[1;36m3\u001b[0m\u001b[1;33m)\u001b[0m\u001b[1;33m\u001b[0m\u001b[1;33m\u001b[0m\u001b[0m\n\u001b[0m",
      "\u001b[1;31mAttributeError\u001b[0m: 'Add' object has no attribute 'div'"
     ]
    }
   ],
   "source": [
    "a=Add()\n",
    "a.div(12,3)"
   ]
  },
  {
   "cell_type": "code",
   "execution_count": 99,
   "id": "5cb715f6",
   "metadata": {},
   "outputs": [],
   "source": [
    "import math"
   ]
  },
  {
   "cell_type": "code",
   "execution_count": 100,
   "id": "f7a69b3f",
   "metadata": {},
   "outputs": [
    {
     "data": {
      "text/plain": [
       "10.0"
      ]
     },
     "execution_count": 100,
     "metadata": {},
     "output_type": "execute_result"
    }
   ],
   "source": [
    "math.sqrt(100)"
   ]
  },
  {
   "cell_type": "code",
   "execution_count": 101,
   "id": "7a39e5f4",
   "metadata": {},
   "outputs": [
    {
     "data": {
      "text/plain": [
       "0.8438539587324921"
      ]
     },
     "execution_count": 101,
     "metadata": {},
     "output_type": "execute_result"
    }
   ],
   "source": [
    "math.cos(12)"
   ]
  },
  {
   "cell_type": "code",
   "execution_count": 102,
   "id": "b08a7f60",
   "metadata": {},
   "outputs": [],
   "source": [
    "#Data Encapsulation-Hide the values\n",
    "#__- to hide the data\n",
    "class Product:\n",
    "    price=1100\n",
    "    __price=1200#hidden data"
   ]
  },
  {
   "cell_type": "code",
   "execution_count": 103,
   "id": "65616dba",
   "metadata": {},
   "outputs": [
    {
     "data": {
      "text/plain": [
       "1100"
      ]
     },
     "execution_count": 103,
     "metadata": {},
     "output_type": "execute_result"
    }
   ],
   "source": [
    "p=Product()\n",
    "p.price"
   ]
  },
  {
   "cell_type": "code",
   "execution_count": 104,
   "id": "2b973b94",
   "metadata": {},
   "outputs": [
    {
     "data": {
      "text/plain": [
       "1200"
      ]
     },
     "execution_count": 104,
     "metadata": {},
     "output_type": "execute_result"
    }
   ],
   "source": [
    "#obj._cls_name__hiddenvar\n",
    "p._Product__price"
   ]
  },
  {
   "cell_type": "code",
   "execution_count": 107,
   "id": "0bdaae60",
   "metadata": {},
   "outputs": [],
   "source": [
    "#Polymorphism-overriding the data or many forms\n",
    "class Add:#Base class\n",
    "    def add(x,a,b):\n",
    "        print(a+b)\n",
    "class Sub:#Base class\n",
    "    def sub(x,a,b):\n",
    "        print(a-b)\n",
    "class Mul:#Base class\n",
    "    def mul(x,a,b):\n",
    "        print(a*b)\n",
    "class Div(Add,Sub,Mul):#Derived class\n",
    "    def add(x,a,b):\n",
    "        print(a/b)\n",
    "    def add(x):\n",
    "        print(\"Add\")"
   ]
  },
  {
   "cell_type": "code",
   "execution_count": 109,
   "id": "25b2c7a7",
   "metadata": {},
   "outputs": [
    {
     "name": "stdout",
     "output_type": "stream",
     "text": [
      "Add\n"
     ]
    }
   ],
   "source": [
    "d=Div()\n",
    "d.add()"
   ]
  },
  {
   "cell_type": "code",
   "execution_count": 110,
   "id": "f17984c3",
   "metadata": {},
   "outputs": [
    {
     "name": "stdout",
     "output_type": "stream",
     "text": [
      "Enter price: 900\n",
      "Total:  890.0\n"
     ]
    }
   ],
   "source": [
    "a=int(input(\"Enter price: \"))\n",
    "if a<=1000:\n",
    "    dis=1000*0.01\n",
    "    tot=a-dis\n",
    "    print(\"Total: \",tot)\n",
    "else:\n",
    "    pass"
   ]
  },
  {
   "cell_type": "code",
   "execution_count": 113,
   "id": "98ee692f",
   "metadata": {
    "scrolled": false
   },
   "outputs": [
    {
     "ename": "SyntaxError",
     "evalue": "invalid syntax (Temp/ipykernel_13296/3564290685.py, line 1)",
     "output_type": "error",
     "traceback": [
      "\u001b[1;36m  File \u001b[1;32m\"C:\\Users\\Techciti\\AppData\\Local\\Temp/ipykernel_13296/3564290685.py\"\u001b[1;36m, line \u001b[1;32m1\u001b[0m\n\u001b[1;33m    1.USing conditional statement\u001b[0m\n\u001b[1;37m      ^\u001b[0m\n\u001b[1;31mSyntaxError\u001b[0m\u001b[1;31m:\u001b[0m invalid syntax\n"
     ]
    }
   ],
   "source": [
    "1.USing conditional statement\n",
    "    Greatest of three numbers\n",
    "    if a<=1000,10,a<=2000,a<=3000,\n",
    "2.Using For loop\n",
    "    Factorial number\n",
    "    Fibonacci Series\n",
    "3.Using While\n",
    "    Add the sum of number Ex:(1+2...+10=55)\n",
    "4.Using For while\n",
    "    Reverse the number\n",
    "    Armstrong number\n",
    "5.Using OOPS\n",
    "    Employee Details\n",
    "6.Installation of modules and import the data methods\n",
    "*\n",
    "**\n",
    "***\n",
    "****\n",
    "*****"
   ]
  },
  {
   "cell_type": "code",
   "execution_count": 111,
   "id": "af8ad475",
   "metadata": {},
   "outputs": [
    {
     "data": {
      "text/plain": [
       "153"
      ]
     },
     "execution_count": 111,
     "metadata": {},
     "output_type": "execute_result"
    }
   ],
   "source": [
    "1+125+27"
   ]
  },
  {
   "cell_type": "code",
   "execution_count": null,
   "id": "20796131",
   "metadata": {},
   "outputs": [],
   "source": []
  }
 ],
 "metadata": {
  "kernelspec": {
   "display_name": "Python 3 (ipykernel)",
   "language": "python",
   "name": "python3"
  },
  "language_info": {
   "codemirror_mode": {
    "name": "ipython",
    "version": 3
   },
   "file_extension": ".py",
   "mimetype": "text/x-python",
   "name": "python",
   "nbconvert_exporter": "python",
   "pygments_lexer": "ipython3",
   "version": "3.9.7"
  }
 },
 "nbformat": 4,
 "nbformat_minor": 5
}
