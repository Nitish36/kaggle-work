{
 "cells": [
  {
   "cell_type": "code",
   "execution_count": 1,
   "id": "e730e408",
   "metadata": {},
   "outputs": [
    {
     "data": {
      "text/plain": [
       "int"
      ]
     },
     "execution_count": 1,
     "metadata": {},
     "output_type": "execute_result"
    }
   ],
   "source": [
    "a=10\n",
    "type(a)"
   ]
  },
  {
   "cell_type": "code",
   "execution_count": 2,
   "id": "f4b634d9",
   "metadata": {},
   "outputs": [
    {
     "data": {
      "text/plain": [
       "list"
      ]
     },
     "execution_count": 2,
     "metadata": {},
     "output_type": "execute_result"
    }
   ],
   "source": [
    "x=[]\n",
    "type(x)"
   ]
  },
  {
   "cell_type": "code",
   "execution_count": 4,
   "id": "5d91d0bc",
   "metadata": {},
   "outputs": [
    {
     "data": {
      "text/plain": [
       "[1, 2, 3, 4, 5, 6]"
      ]
     },
     "execution_count": 4,
     "metadata": {},
     "output_type": "execute_result"
    }
   ],
   "source": [
    "A=[1,2,3]\n",
    "X=[4,5,6]\n",
    "A.extend(X)\n",
    "A"
   ]
  },
  {
   "cell_type": "code",
   "execution_count": 5,
   "id": "fcb1b4d8",
   "metadata": {},
   "outputs": [
    {
     "data": {
      "text/plain": [
       "2"
      ]
     },
     "execution_count": 5,
     "metadata": {},
     "output_type": "execute_result"
    }
   ],
   "source": [
    "A=[1,2,3,4]\n",
    "A.index(3)"
   ]
  },
  {
   "cell_type": "code",
   "execution_count": 7,
   "id": "f6131578",
   "metadata": {},
   "outputs": [
    {
     "data": {
      "text/plain": [
       "[1, 2, 3, 4, 5]"
      ]
     },
     "execution_count": 7,
     "metadata": {},
     "output_type": "execute_result"
    }
   ],
   "source": [
    "A=[1,2,3,4]\n",
    "A.append(5)"
   ]
  },
  {
   "cell_type": "code",
   "execution_count": 9,
   "id": "db450eec",
   "metadata": {},
   "outputs": [
    {
     "data": {
      "text/plain": [
       "[1, 2, 3, 4, 5]"
      ]
     },
     "execution_count": 9,
     "metadata": {},
     "output_type": "execute_result"
    }
   ],
   "source": [
    "A=[1,2,3,5]\n",
    "A.insert(3,4)\n",
    "A\n"
   ]
  },
  {
   "cell_type": "code",
   "execution_count": 12,
   "id": "6ffcc235",
   "metadata": {},
   "outputs": [
    {
     "data": {
      "text/plain": [
       "3"
      ]
     },
     "execution_count": 12,
     "metadata": {},
     "output_type": "execute_result"
    }
   ],
   "source": [
    "A=[1,2,3,4,5,6,7,1,4,1]\n",
    "A.count(1)"
   ]
  },
  {
   "cell_type": "code",
   "execution_count": 13,
   "id": "9ab0c2da",
   "metadata": {},
   "outputs": [
    {
     "data": {
      "text/plain": [
       "[1, 2, 4, 5]"
      ]
     },
     "execution_count": 13,
     "metadata": {},
     "output_type": "execute_result"
    }
   ],
   "source": [
    "A=[1,2,3,4,5]\n",
    "A.remove(3)\n",
    "A"
   ]
  },
  {
   "cell_type": "code",
   "execution_count": 14,
   "id": "e209c6b1",
   "metadata": {},
   "outputs": [
    {
     "data": {
      "text/plain": [
       "4"
      ]
     },
     "execution_count": 14,
     "metadata": {},
     "output_type": "execute_result"
    }
   ],
   "source": [
    "A=[1,2,3,4,5]\n",
    "A.pop(3)"
   ]
  },
  {
   "cell_type": "code",
   "execution_count": 28,
   "id": "63269002",
   "metadata": {},
   "outputs": [
    {
     "data": {
      "text/plain": [
       "'list'"
      ]
     },
     "execution_count": 28,
     "metadata": {},
     "output_type": "execute_result"
    }
   ],
   "source": [
    "y=[12,3,[24,'list',46],[100,4500,56]]\n",
    "y[2][1]"
   ]
  },
  {
   "cell_type": "code",
   "execution_count": 30,
   "id": "14ed08e7",
   "metadata": {},
   "outputs": [
    {
     "name": "stdout",
     "output_type": "stream",
     "text": [
      "Requirement already satisfied: numpy in c:\\users\\nayak\\anaconda3\\lib\\site-packages (1.20.1)\n"
     ]
    }
   ],
   "source": [
    "!pip install numpy"
   ]
  },
  {
   "cell_type": "code",
   "execution_count": 41,
   "id": "f0dad168",
   "metadata": {},
   "outputs": [
    {
     "name": "stdout",
     "output_type": "stream",
     "text": [
      "10\n",
      "[4 4 4 4]\n",
      "[ 5 12 21 32]\n"
     ]
    }
   ],
   "source": [
    "from numpy import add,multiply,subtract\n",
    "A=[1,2,3,4]\n",
    "B=[5,6,7,8]\n",
    "print(sum(A))\n",
    "print(subtract(B,A))\n",
    "print(multiply(B,A))"
   ]
  },
  {
   "cell_type": "code",
   "execution_count": 2,
   "id": "1a9eee21",
   "metadata": {},
   "outputs": [
    {
     "data": {
      "text/plain": [
       "tuple"
      ]
     },
     "execution_count": 2,
     "metadata": {},
     "output_type": "execute_result"
    }
   ],
   "source": [
    "x=(1,2,3)\n",
    "type(x)"
   ]
  },
  {
   "cell_type": "code",
   "execution_count": 11,
   "id": "f5e46a10",
   "metadata": {},
   "outputs": [
    {
     "name": "stdout",
     "output_type": "stream",
     "text": [
      "<class 'list'>\n",
      "<class 'str'>\n",
      "<class 'int'>\n",
      "<class 'float'>\n",
      "<class 'tuple'>\n"
     ]
    },
    {
     "data": {
      "text/plain": [
       "([45], 'string', 30, 9.34, (1, 2, 3))"
      ]
     },
     "execution_count": 11,
     "metadata": {},
     "output_type": "execute_result"
    }
   ],
   "source": [
    "x=([12,45],'string',30,9.34,(1,2,3))\n",
    "print(type(x[0]))\n",
    "print(type(x[1]))\n",
    "print(type(x[2]))\n",
    "print(type(x[3]))\n",
    "print(type(x[4]))\n",
    "x[0].remove(12)\n",
    "x"
   ]
  },
  {
   "cell_type": "code",
   "execution_count": 12,
   "id": "7d3c9d43",
   "metadata": {},
   "outputs": [
    {
     "data": {
      "text/plain": [
       "str"
      ]
     },
     "execution_count": 12,
     "metadata": {},
     "output_type": "execute_result"
    }
   ],
   "source": [
    "a='[1,2,3,4]'\n",
    "type(a)"
   ]
  },
  {
   "cell_type": "code",
   "execution_count": 14,
   "id": "bdf82c7d",
   "metadata": {},
   "outputs": [
    {
     "name": "stdout",
     "output_type": "stream",
     "text": [
      "WORLD\n"
     ]
    }
   ],
   "source": [
    "x='world'\n",
    "print(x.upper())"
   ]
  },
  {
   "cell_type": "code",
   "execution_count": 15,
   "id": "651edc7a",
   "metadata": {},
   "outputs": [
    {
     "name": "stdout",
     "output_type": "stream",
     "text": [
      "world\n"
     ]
    }
   ],
   "source": [
    "x='WORLD'\n",
    "print(x.lower())"
   ]
  },
  {
   "cell_type": "code",
   "execution_count": 18,
   "id": "4eec952e",
   "metadata": {},
   "outputs": [
    {
     "name": "stdout",
     "output_type": "stream",
     "text": [
      "Capitalize\n"
     ]
    }
   ],
   "source": [
    "x=\"capitalize\"\n",
    "print(x.capitalize())"
   ]
  },
  {
   "cell_type": "code",
   "execution_count": 21,
   "id": "e492c2d5",
   "metadata": {},
   "outputs": [
    {
     "name": "stdout",
     "output_type": "stream",
     "text": [
      "Refer\n",
      "secnerefeR\n",
      "Rfrne\n"
     ]
    }
   ],
   "source": [
    "x='References'\n",
    "print(x[0:5])\n",
    "print(x[::-1])\n",
    "print(x[::2])"
   ]
  },
  {
   "cell_type": "code",
   "execution_count": 22,
   "id": "af990cca",
   "metadata": {},
   "outputs": [
    {
     "name": "stdout",
     "output_type": "stream",
     "text": [
      "world\n",
      "world\n",
      "5\n",
      "5\n"
     ]
    }
   ],
   "source": [
    "x=input()\n",
    "print(x)\n",
    "y=int(input())\n",
    "print(y)"
   ]
  },
  {
   "cell_type": "code",
   "execution_count": 26,
   "id": "0c694a63",
   "metadata": {},
   "outputs": [
    {
     "name": "stdout",
     "output_type": "stream",
     "text": [
      "dict_keys([1, 2])\n",
      "dict_values(['January', 'February'])\n",
      "dict_items([(1, 'January'), (2, 'February')])\n"
     ]
    }
   ],
   "source": [
    "Month={1:'January',2:'February'}\n",
    "print(Month.keys())\n",
    "print(Month.values())\n",
    "print(Month.items())"
   ]
  },
  {
   "cell_type": "code",
   "execution_count": 28,
   "id": "d8007b3a",
   "metadata": {},
   "outputs": [
    {
     "data": {
      "text/plain": [
       "{'Id': [1, 2, 3, 4], 'Places': ['Chennai', 'Pune', 'Mumbai', 'Delhi']}"
      ]
     },
     "execution_count": 28,
     "metadata": {},
     "output_type": "execute_result"
    }
   ],
   "source": [
    "States={'Id':[1,2,3,4],\n",
    "        'Places':['Chennai','Pune','Mumbai','Delhi']}\n",
    "States"
   ]
  },
  {
   "cell_type": "code",
   "execution_count": 34,
   "id": "9eff998d",
   "metadata": {},
   "outputs": [
    {
     "data": {
      "text/plain": [
       "3"
      ]
     },
     "execution_count": 34,
     "metadata": {},
     "output_type": "execute_result"
    }
   ],
   "source": [
    "States['Id'][2]"
   ]
  },
  {
   "cell_type": "code",
   "execution_count": 37,
   "id": "ac999421",
   "metadata": {},
   "outputs": [
    {
     "data": {
      "text/html": [
       "<div>\n",
       "<style scoped>\n",
       "    .dataframe tbody tr th:only-of-type {\n",
       "        vertical-align: middle;\n",
       "    }\n",
       "\n",
       "    .dataframe tbody tr th {\n",
       "        vertical-align: top;\n",
       "    }\n",
       "\n",
       "    .dataframe thead th {\n",
       "        text-align: right;\n",
       "    }\n",
       "</style>\n",
       "<table border=\"1\" class=\"dataframe\">\n",
       "  <thead>\n",
       "    <tr style=\"text-align: right;\">\n",
       "      <th></th>\n",
       "      <th>Id</th>\n",
       "      <th>Places</th>\n",
       "    </tr>\n",
       "  </thead>\n",
       "  <tbody>\n",
       "    <tr>\n",
       "      <th>0</th>\n",
       "      <td>1</td>\n",
       "      <td>Chennai</td>\n",
       "    </tr>\n",
       "    <tr>\n",
       "      <th>1</th>\n",
       "      <td>2</td>\n",
       "      <td>Pune</td>\n",
       "    </tr>\n",
       "    <tr>\n",
       "      <th>2</th>\n",
       "      <td>3</td>\n",
       "      <td>Mumbai</td>\n",
       "    </tr>\n",
       "    <tr>\n",
       "      <th>3</th>\n",
       "      <td>4</td>\n",
       "      <td>Delhi</td>\n",
       "    </tr>\n",
       "  </tbody>\n",
       "</table>\n",
       "</div>"
      ],
      "text/plain": [
       "   Id   Places\n",
       "0   1  Chennai\n",
       "1   2     Pune\n",
       "2   3   Mumbai\n",
       "3   4    Delhi"
      ]
     },
     "execution_count": 37,
     "metadata": {},
     "output_type": "execute_result"
    }
   ],
   "source": [
    "import pandas as pd\n",
    "pd.DataFrame(States)"
   ]
  },
  {
   "cell_type": "code",
   "execution_count": 40,
   "id": "4df16fce",
   "metadata": {},
   "outputs": [],
   "source": [
    "var=pd.DataFrame(States)\n",
    "var.to_csv('state.csv')"
   ]
  },
  {
   "cell_type": "code",
   "execution_count": 41,
   "id": "070835b3",
   "metadata": {},
   "outputs": [
    {
     "data": {
      "text/plain": [
       "{1, 2, 3, 4}"
      ]
     },
     "execution_count": 41,
     "metadata": {},
     "output_type": "execute_result"
    }
   ],
   "source": [
    "a={1,2,3,4}\n",
    "a"
   ]
  },
  {
   "cell_type": "code",
   "execution_count": 44,
   "id": "09054db5",
   "metadata": {},
   "outputs": [
    {
     "data": {
      "text/plain": [
       "{1, 2, 3, 4, 5}"
      ]
     },
     "execution_count": 44,
     "metadata": {},
     "output_type": "execute_result"
    }
   ],
   "source": [
    "a.add(5)\n",
    "a"
   ]
  },
  {
   "cell_type": "code",
   "execution_count": 45,
   "id": "f09c2b8f",
   "metadata": {},
   "outputs": [
    {
     "data": {
      "text/plain": [
       "{1, 2, 3, 4}"
      ]
     },
     "execution_count": 45,
     "metadata": {},
     "output_type": "execute_result"
    }
   ],
   "source": [
    "a.remove(5)\n",
    "a"
   ]
  },
  {
   "cell_type": "code",
   "execution_count": 50,
   "id": "52064c0b",
   "metadata": {},
   "outputs": [
    {
     "name": "stdout",
     "output_type": "stream",
     "text": [
      "{1: 'January', 2: 'February', 3: 'March', 4: 'April', 5: 'May', 6: 'June'}\n"
     ]
    }
   ],
   "source": [
    "Month1={1:'January',2:'February',3:'March'}\n",
    "Month2={4:'April',5:'May',6:'June'}\n",
    "Month1.update(Month2)\n",
    "print(Month1)"
   ]
  },
  {
   "cell_type": "code",
   "execution_count": 1,
   "id": "949cac05",
   "metadata": {},
   "outputs": [
    {
     "name": "stdout",
     "output_type": "stream",
     "text": [
      "Enter a number12\n",
      "12  is even\n"
     ]
    }
   ],
   "source": [
    "#Source Code for even or odd\n",
    "num = int(input(\"Enter a number\"))\n",
    "if num % 2 == 0:\n",
    "    print(num,\" is even\")\n",
    "else:\n",
    "    print(num,\" is odd\")"
   ]
  },
  {
   "cell_type": "code",
   "execution_count": 3,
   "id": "21f4f0f0",
   "metadata": {},
   "outputs": [
    {
     "name": "stdout",
     "output_type": "stream",
     "text": [
      "Enter a wordmalayalam\n",
      "malayalam  is a palindrome\n"
     ]
    }
   ],
   "source": [
    "#Source Code for palindrome\n",
    "word = input(\"Enter a word\")\n",
    "if(word[::-1]==word[:]):\n",
    "    print(word,\" is a palindrome\")\n",
    "else:\n",
    "    print(word,\" is not a palindrome\")"
   ]
  },
  {
   "cell_type": "code",
   "execution_count": 10,
   "id": "63dd85cc",
   "metadata": {},
   "outputs": [
    {
     "name": "stdout",
     "output_type": "stream",
     "text": [
      "Enter a number for multiplication 10\n",
      "Enter the limit 10\n",
      "10  *  1  =  10\n",
      "10  *  2  =  20\n",
      "10  *  3  =  30\n",
      "10  *  4  =  40\n",
      "10  *  5  =  50\n",
      "10  *  6  =  60\n",
      "10  *  7  =  70\n",
      "10  *  8  =  80\n",
      "10  *  9  =  90\n",
      "10  *  10  =  100\n"
     ]
    }
   ],
   "source": [
    "#Source Code for multiplication for for loop\n",
    "num = int(input(\"Enter a number for multiplication \"))\n",
    "limit = int(input((\"Enter the limit \")))\n",
    "for i in range(1,limit+1):\n",
    "    print(num,\" * \",i,\" = \",(num*i))"
   ]
  },
  {
   "cell_type": "code",
   "execution_count": 20,
   "id": "45832cef",
   "metadata": {},
   "outputs": [
    {
     "name": "stdout",
     "output_type": "stream",
     "text": [
      "even\n",
      "odd\n",
      "even\n",
      "odd\n",
      "even\n",
      "odd\n"
     ]
    }
   ],
   "source": [
    "l = [10,11,12,13,14,15]\n",
    "for i in range(6):\n",
    "    if(l[i]%2==0):\n",
    "        print(\"even\")\n",
    "    else:\n",
    "        print(\"odd\")"
   ]
  },
  {
   "cell_type": "code",
   "execution_count": 25,
   "id": "25ce38fd",
   "metadata": {},
   "outputs": [
    {
     "name": "stdout",
     "output_type": "stream",
     "text": [
      "15\n",
      "9\n",
      "36\n"
     ]
    }
   ],
   "source": [
    "class Add:\n",
    "    def add(x,a,b):\n",
    "        print(a+b)\n",
    "class Sub:\n",
    "    def sub(x,a,b):\n",
    "        print(a-b)\n",
    "class Mul:\n",
    "    def mul(x,a,b):\n",
    "        print(a*b)\n",
    "class Div(Add,Sub,Mul):\n",
    "    def div(x,a,b):\n",
    "        print(a/b)\n",
    "    \n",
    "d=Div()\n",
    "d.add(12,3)\n",
    "d.sub(12,3)\n",
    "d.mul(12,3)"
   ]
  },
  {
   "cell_type": "code",
   "execution_count": null,
   "id": "edd8dc33",
   "metadata": {},
   "outputs": [],
   "source": []
  }
 ],
 "metadata": {
  "kernelspec": {
   "display_name": "Python 3",
   "language": "python",
   "name": "python3"
  },
  "language_info": {
   "codemirror_mode": {
    "name": "ipython",
    "version": 3
   },
   "file_extension": ".py",
   "mimetype": "text/x-python",
   "name": "python",
   "nbconvert_exporter": "python",
   "pygments_lexer": "ipython3",
   "version": "3.8.8"
  }
 },
 "nbformat": 4,
 "nbformat_minor": 5
}
